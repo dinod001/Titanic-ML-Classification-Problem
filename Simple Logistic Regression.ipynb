{
 "cells": [
  {
   "cell_type": "markdown",
   "id": "b56a2699",
   "metadata": {},
   "source": [
    "### 1. Import Dependecies"
   ]
  },
  {
   "cell_type": "code",
   "execution_count": 65,
   "id": "a1b55707",
   "metadata": {},
   "outputs": [],
   "source": [
    "import numpy as np\n",
    "import pandas as pd\n",
    "import matplotlib.pyplot as plt\n",
    "import seaborn as sns"
   ]
  },
  {
   "cell_type": "markdown",
   "id": "6b743bdd",
   "metadata": {},
   "source": [
    "### 2. Loading the data"
   ]
  },
  {
   "cell_type": "code",
   "execution_count": 66,
   "id": "a2ca7d4c",
   "metadata": {},
   "outputs": [],
   "source": [
    "X_train = np.load('artifacts/X_train.npz')['arr_0']\n",
    "Y_train = np.load('artifacts/Y_train.npz')['arr_0']\n",
    "X_test = np.load('artifacts/X_test.npz')['arr_0']\n",
    "Y_test = np.load('artifacts/Y_test.npz')['arr_0']"
   ]
  },
  {
   "cell_type": "code",
   "execution_count": 67,
   "id": "f7efe2a4",
   "metadata": {},
   "outputs": [
    {
     "data": {
      "text/plain": [
       "array([[ 1.        ,  1.21525062, -0.47427882, ...,  0.        ,\n",
       "         0.        ,  1.        ],\n",
       "       [ 2.        , -0.51525035, -0.47427882, ...,  0.        ,\n",
       "         0.        ,  1.        ],\n",
       "       [ 3.        ,  0.17695004, -0.47427882, ...,  0.        ,\n",
       "         0.        ,  1.        ],\n",
       "       ...,\n",
       "       [ 3.        ,  0.86915043,  1.33937968, ...,  0.        ,\n",
       "         0.        ,  1.        ],\n",
       "       [ 1.        , -1.20745074,  0.43255043, ...,  0.        ,\n",
       "         0.        ,  1.        ],\n",
       "       [ 1.        , -0.66907266, -0.47427882, ...,  0.        ,\n",
       "         0.        ,  1.        ]], shape=(712, 10))"
      ]
     },
     "execution_count": 67,
     "metadata": {},
     "output_type": "execute_result"
    }
   ],
   "source": [
    "X_train"
   ]
  },
  {
   "cell_type": "markdown",
   "id": "89b8e15b",
   "metadata": {},
   "source": [
    "### 3. Model Training"
   ]
  },
  {
   "cell_type": "markdown",
   "id": "0bf70b9a",
   "metadata": {},
   "source": [
    "#### 3.1 Standard Logistic Regression"
   ]
  },
  {
   "cell_type": "code",
   "execution_count": 68,
   "id": "394169c5",
   "metadata": {},
   "outputs": [],
   "source": [
    "def sigmoid(z):\n",
    "    return 1.0 / (1.0 + np.exp(-z))"
   ]
  },
  {
   "cell_type": "code",
   "execution_count": 69,
   "id": "f83c1bea",
   "metadata": {},
   "outputs": [],
   "source": [
    "def log_regression(X, Y, lr=0.01, iterations=1000):\n",
    "    n, m = X.shape        # n = samples, m = features\n",
    "    w = np.random.randn(m)\n",
    "    b0 = 0\n",
    "\n",
    "    for epoch in range(iterations):\n",
    "        # forward\n",
    "        z = b0 + np.dot(X, w)\n",
    "        Yhat = sigmoid(z)\n",
    "\n",
    "        # stability (avoid log(0))\n",
    "        eps = 1e-15\n",
    "        Yhat = np.clip(Yhat, eps, 1 - eps)\n",
    "\n",
    "        # residuals\n",
    "        resid = Y - Yhat\n",
    "\n",
    "        # gradients (averaged)\n",
    "        grad_w = np.dot(X.T, resid) / n\n",
    "        grad_b = np.mean(resid)\n",
    "\n",
    "        # update\n",
    "        w = w + lr * grad_w   # note: since resid = Y - Yhat, we add here\n",
    "        b0 = b0 + lr * grad_b\n",
    "\n",
    "        # cost (binary cross entropy)\n",
    "        pos_component = np.sum(Y * np.log(Yhat))\n",
    "        neg_component = np.sum((1 - Y) * np.log(1 - Yhat))\n",
    "        cost = (-1/n) * (pos_component + neg_component)\n",
    "\n",
    "        if epoch % 100 == 0:\n",
    "            print(f\"Iteration {epoch}: Bias={b0:.4f}, Cost={cost:.4f}\")\n",
    "\n",
    "    return w, b0\n"
   ]
  },
  {
   "cell_type": "code",
   "execution_count": 70,
   "id": "f2ab918c",
   "metadata": {},
   "outputs": [
    {
     "name": "stdout",
     "output_type": "stream",
     "text": [
      "Iteration 0: Bias=0.0003, Cost=1.1139\n",
      "Iteration 100: Bias=0.0339, Cost=0.9867\n",
      "Iteration 200: Bias=0.0705, Cost=0.8781\n",
      "Iteration 300: Bias=0.1060, Cost=0.7875\n",
      "Iteration 400: Bias=0.1392, Cost=0.7143\n",
      "Iteration 500: Bias=0.1697, Cost=0.6568\n",
      "Iteration 600: Bias=0.1976, Cost=0.6131\n",
      "Iteration 700: Bias=0.2230, Cost=0.5804\n",
      "Iteration 800: Bias=0.2461, Cost=0.5563\n",
      "Iteration 900: Bias=0.2674, Cost=0.5383\n"
     ]
    }
   ],
   "source": [
    "w, b0 = log_regression(X_train,Y_train)"
   ]
  },
  {
   "cell_type": "code",
   "execution_count": 71,
   "id": "00965745",
   "metadata": {},
   "outputs": [],
   "source": [
    "def predict_proba(X, b0 ,w):\n",
    "    z = b0 + np.dot(X, w)\n",
    "    Y_proba = sigmoid(z)\n",
    "    return Y_proba"
   ]
  },
  {
   "cell_type": "code",
   "execution_count": 72,
   "id": "b0c5e997",
   "metadata": {},
   "outputs": [],
   "source": [
    "def predict(X, w, b0, threshold=0.5):\n",
    "    Y_proba = predict_proba(X, b0, w)\n",
    "    return (Y_proba >= threshold).astype(int)"
   ]
  },
  {
   "cell_type": "markdown",
   "id": "30fc16b1",
   "metadata": {},
   "source": [
    "#### Evaluation Matrics"
   ]
  },
  {
   "cell_type": "markdown",
   "id": "4fdf86cb",
   "metadata": {},
   "source": [
    "##### Confusion metrics"
   ]
  },
  {
   "cell_type": "code",
   "execution_count": 73,
   "id": "e5d191d5",
   "metadata": {},
   "outputs": [],
   "source": [
    "def compute_confusion_matrix(Y,Y_hat):\n",
    "    TP = np.sum((Y == 1) & (Y_hat == 1))\n",
    "    FP = np.sum((Y == 0) & (Y_hat == 1))\n",
    "    TN = np.sum((Y == 0) & (Y_hat == 0))\n",
    "    FN = np.sum((Y == 1) & (Y_hat == 0))\n",
    "    return np.array([\n",
    "                [TN,FP]\n",
    "                ,[FN,TP]\n",
    "                ],\n",
    "                dtype=int\n",
    "                )"
   ]
  },
  {
   "cell_type": "code",
   "execution_count": 74,
   "id": "8ef3cdd8",
   "metadata": {},
   "outputs": [],
   "source": [
    "Y_hat = predict(X_test, w, b0)\n",
    "Y_proba = predict_proba(X_test, b0 ,w)"
   ]
  },
  {
   "cell_type": "code",
   "execution_count": 75,
   "id": "cb684c6d",
   "metadata": {},
   "outputs": [
    {
     "data": {
      "image/png": "[encoded data removed]",
      "text/plain": [
       "<Figure size 640x480 with 2 Axes>"
      ]
     },
     "metadata": {},
     "output_type": "display_data"
    }
   ],
   "source": [
    "cm = compute_confusion_matrix(Y_test,Y_hat)\n",
    "sns.heatmap(cm,annot=True,fmt='d',cmap='Blues')\n",
    "plt.xlabel('Y_hat')\n",
    "plt.ylabel('Y')\n",
    "plt.title('Confusion Matrix')\n",
    "plt.show()"
   ]
  },
  {
   "cell_type": "markdown",
   "id": "c7a783e5",
   "metadata": {},
   "source": [
    "##### ROC curve"
   ]
  },
  {
   "cell_type": "code",
   "execution_count": 76,
   "id": "4ada170f",
   "metadata": {},
   "outputs": [],
   "source": [
    "# initializing empty arrays for store each precision and recall values for precision recall curve\n",
    "Precision= []\n",
    "Recall = []"
   ]
  },
  {
   "cell_type": "code",
   "execution_count": 77,
   "id": "2044c83d",
   "metadata": {},
   "outputs": [],
   "source": [
    "def roc_curve(Y,Y_proba):\n",
    "    thresholds = np.linspace(1,0,200)\n",
    "\n",
    "    tpr_list = []\n",
    "    fpr_list = []\n",
    "\n",
    "    for t in thresholds:\n",
    "        y_hat = (Y_proba >= t).astype(int)\n",
    "        \n",
    "        TP = np.sum((Y == 1) & (y_hat == 1))\n",
    "        FP = np.sum((Y == 0) & (y_hat == 1))\n",
    "        TN = np.sum((Y == 0) & (y_hat == 0))\n",
    "        FN = np.sum((Y == 1) & (y_hat == 0))\n",
    "\n",
    "        tpr = TP / (TP + FN)\n",
    "        fpr = FP / (FP + TN)\n",
    "\n",
    "        if (TP + FP) == 0:\n",
    "            precision = 0 \n",
    "        else:\n",
    "            precision = TP / (TP + FP)\n",
    "\n",
    "        recall = TP / (TP +FN)\n",
    "        \n",
    "        tpr_list.append(tpr)\n",
    "        fpr_list.append(fpr)\n",
    "        Precision.append(precision)\n",
    "        Recall.append(recall)\n",
    "\n",
    "    return np.array(tpr_list), np.array(fpr_list), np.array(thresholds)"
   ]
  },
  {
   "cell_type": "code",
   "execution_count": 78,
   "id": "ca615700",
   "metadata": {},
   "outputs": [],
   "source": [
    "tpr, fpr, _ = roc_curve(Y_test,Y_proba)"
   ]
  },
  {
   "cell_type": "code",
   "execution_count": 79,
   "id": "18e137cb",
   "metadata": {},
   "outputs": [
    {
     "data": {
      "image/png": "[encoded data removed]",
      "text/plain": [
       "<Figure size 640x480 with 1 Axes>"
      ]
     },
     "metadata": {},
     "output_type": "display_data"
    }
   ],
   "source": [
    "plt.plot(fpr, tpr, label='LogReg')\n",
    "plt.xlabel(\"FPR\")\n",
    "plt.ylabel(\"TPR\")\n",
    "plt.title(\"ROC Curve\")\n",
    "plt.show()"
   ]
  },
  {
   "cell_type": "code",
   "execution_count": 80,
   "id": "6a9b9229",
   "metadata": {},
   "outputs": [
    {
     "name": "stdout",
     "output_type": "stream",
     "text": [
      "AUC: 0.8081081081081082\n"
     ]
    }
   ],
   "source": [
    "auc = np.trapezoid(tpr, fpr)\n",
    "print(f\"AUC: {auc}\")"
   ]
  },
  {
   "cell_type": "code",
   "execution_count": null,
   "id": "9dbe036d",
   "metadata": {},
   "outputs": [],
   "source": []
  }
 ],
 "metadata": {
  "kernelspec": {
   "display_name": "foml",
   "language": "python",
   "name": "python3"
  },
  "language_info": {
   "codemirror_mode": {
    "name": "ipython",
    "version": 3
   },
   "file_extension": ".py",
   "mimetype": "text/x-python",
   "name": "python",
   "nbconvert_exporter": "python",
   "pygments_lexer": "ipython3",
   "version": "3.11.13"
  }
 },
 "nbformat": 4,
 "nbformat_minor": 5
}
