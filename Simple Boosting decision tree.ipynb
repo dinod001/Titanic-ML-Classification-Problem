{
 "cells": [
  {
   "cell_type": "markdown",
   "id": "5281c0e5",
   "metadata": {},
   "source": [
    "### 1. Import Dependecies"
   ]
  },
  {
   "cell_type": "code",
   "execution_count": 117,
   "id": "cbee731d",
   "metadata": {},
   "outputs": [],
   "source": [
    "import numpy as np\n",
    "import pandas as pd\n",
    "import matplotlib.pyplot as plt\n",
    "import seaborn as sns\n",
    "from collections import Counter"
   ]
  },
  {
   "cell_type": "markdown",
   "id": "b4582278",
   "metadata": {},
   "source": [
    "### 2. Loading the data"
   ]
  },
  {
   "cell_type": "code",
   "execution_count": 118,
   "id": "1f977ddd",
   "metadata": {},
   "outputs": [],
   "source": [
    "X_train = np.load('artifacts/X_train.npz')['arr_0']\n",
    "Y_train = np.load('artifacts/Y_train.npz')['arr_0']\n",
    "X_test = np.load('artifacts/X_test.npz')['arr_0']\n",
    "Y_test = np.load('artifacts/Y_test.npz')['arr_0']"
   ]
  },
  {
   "cell_type": "markdown",
   "id": "1a125d6c",
   "metadata": {},
   "source": [
    "### 3. Model Training"
   ]
  },
  {
   "cell_type": "markdown",
   "id": "01742e85",
   "metadata": {},
   "source": [
    "#### 3.1 Simple Boosting"
   ]
  },
  {
   "cell_type": "code",
   "execution_count": 119,
   "id": "2841a702",
   "metadata": {},
   "outputs": [],
   "source": [
    "# Decision Tree from Scratch\n",
    "class TreeNode:\n",
    "    def __init__(self):\n",
    "        self.feature_index = None\n",
    "        self.threshold = None\n",
    "        self.left = None\n",
    "        self.right = None\n",
    "        self.prediction = None\n",
    "\n",
    "class DecisionTree:\n",
    "    def __init__(self, maximum_depth=5, criterion='gini'):\n",
    "        self.maximum_depth = maximum_depth\n",
    "        self.criterion = criterion\n",
    "        self.tree = None\n",
    "    \n",
    "    def _impurity(self, y):\n",
    "        if len(y) == 0:\n",
    "            return 0\n",
    "        counts = Counter(y)\n",
    "        n = len(y)\n",
    "        \n",
    "        if self.criterion == 'gini':\n",
    "            return 1 - sum((count/n)**2 for count in counts.values())\n",
    "        else:  # entropy\n",
    "            return -sum((count/n) * np.log2(count/n) for count in counts.values() if count > 0)\n",
    "    \n",
    "    def _best_split(self, X, y):\n",
    "        best_gain, best_feature, best_threshold = 0, None, None\n",
    "        current_impurity = self._impurity(y)\n",
    "        \n",
    "        for feature_idx in range(X.shape[1]):\n",
    "            values = np.unique(X[:, feature_idx]) \n",
    "            for val in values:\n",
    "                left_mask =  X[:, feature_idx] <= val\n",
    "                if left_mask.sum() == 0 or left_mask.sum() == len(y):\n",
    "                    continue\n",
    "                \n",
    "                y_left, y_right = y[left_mask], y[~left_mask]\n",
    "                gain = current_impurity - (len(y_left)/len(y) * self._impurity(y_left) + \n",
    "                                          len(y_right)/len(y) * self._impurity(y_right))\n",
    "                \n",
    "                if gain > best_gain:\n",
    "                    best_gain, best_feature, best_threshold = gain, feature_idx, val\n",
    "        \n",
    "        return best_feature, best_threshold\n",
    "    \n",
    "    def _build_tree(self, X, y, depth=0):\n",
    "        node = TreeNode()\n",
    "        node.prediction = Counter(y).most_common(1)[0][0]\n",
    "        \n",
    "        if depth >= self.maximum_depth or len(set(y)) == 1:\n",
    "            return node\n",
    "        \n",
    "        feature_idx, threshold = self._best_split(X, y)\n",
    "        if feature_idx is None:\n",
    "            return node\n",
    "        \n",
    "        node.feature_index, node.threshold = feature_idx, threshold\n",
    "        left_mask = X[:, feature_idx] <= threshold\n",
    "\n",
    "        \n",
    "        node.left = self._build_tree(X[left_mask], y[left_mask], depth + 1)\n",
    "        node.right = self._build_tree(X[~left_mask], y[~left_mask], depth + 1)\n",
    "        \n",
    "        return node\n",
    "    \n",
    "    def fit(self, X, y):\n",
    "        self.tree = self._build_tree(X, y)\n",
    "        return self\n",
    "    \n",
    "    def _predict_sample(self, sample, node):\n",
    "        if node.feature_index is None:\n",
    "            return node.prediction\n",
    "        \n",
    "        if sample[node.feature_index] <= node.threshold:\n",
    "            return self._predict_sample(sample, node.left)\n",
    "        else:\n",
    "            return self._predict_sample(sample, node.right)\n",
    "    \n",
    "    def predict(self, X):\n",
    "        return np.array([self._predict_sample(X[i], self.tree) for i in range(len(X))])"
   ]
  },
  {
   "cell_type": "code",
   "execution_count": 120,
   "id": "15d8afb2",
   "metadata": {},
   "outputs": [],
   "source": [
    "class AdaBoost:\n",
    "    def __init__(self, n_estimators=50, max_depth=1):\n",
    "        self.n_estimators = n_estimators\n",
    "        self.max_depth = max_depth\n",
    "        self.stumps = []\n",
    "        self.stump_weights = []\n",
    "        self.classes_ = None\n",
    "\n",
    "    def fit(self, X, y):\n",
    "        self.classes_ = np.unique(y)\n",
    "        if len(self.classes_) != 2:\n",
    "            raise ValueError(\"AdaBoost requires exactly 2 classes\")\n",
    "        y_bin = np.where(y == self.classes_[1], 1, -1)\n",
    "\n",
    "        n_samples = len(X)\n",
    "        sample_weights = np.ones(n_samples) / n_samples\n",
    "\n",
    "        for _ in range(self.n_estimators):\n",
    "            stump = DecisionTree(maximum_depth=self.max_depth)\n",
    "            stump.fit(X, y_bin)\n",
    "            y_pred = stump.predict(X)\n",
    "\n",
    "            # Compute weighted error\n",
    "            error = np.sum(sample_weights[y_bin != y_pred])\n",
    "            if error > 0.5:\n",
    "                continue \n",
    "\n",
    "            # Compute stump weight\n",
    "            error = max(error, 1e-10)  # avoid /0\n",
    "            alpha = 0.5 * np.log((1 - error) / error)\n",
    "\n",
    "            self.stumps.append(stump)\n",
    "            self.stump_weights.append(alpha)\n",
    "\n",
    "            # Update sample weights\n",
    "            sample_weights *= np.exp(-alpha * y_bin * y_pred)\n",
    "            sample_weights /= np.sum(sample_weights)\n",
    "\n",
    "    def predict(self, X):\n",
    "        F = np.zeros(len(X))\n",
    "        for stump, alpha in zip(self.stumps, self.stump_weights):\n",
    "            F += alpha * stump.predict(X)\n",
    "\n",
    "        # Map back to original labels\n",
    "        return np.where(F >= 0, self.classes_[1], self.classes_[0])\n",
    "\n",
    "    def predict_proba(self, X):\n",
    "        F = np.zeros(len(X))\n",
    "        for stump, alpha in zip(self.stumps, self.stump_weights):\n",
    "            F += alpha * stump.predict(X)\n",
    "        # Map to probability using sigmoid\n",
    "        proba = 1 / (1 + np.exp(-2 * F))\n",
    "        return np.column_stack([1 - proba, proba])\n"
   ]
  },
  {
   "cell_type": "code",
   "execution_count": 121,
   "id": "88d212ff",
   "metadata": {},
   "outputs": [],
   "source": [
    "Titanic_boosting = AdaBoost()\n",
    "Titanic_boosting.fit(X_train, Y_train)\n",
    "\n",
    "Y_hat = Titanic_boosting.predict(X_test)\n",
    "Y_proba = Titanic_boosting.predict_proba(X_test)[:, 1]\n"
   ]
  },
  {
   "cell_type": "markdown",
   "id": "a9b1bbec",
   "metadata": {},
   "source": [
    "#### Evaluation Matrics"
   ]
  },
  {
   "cell_type": "markdown",
   "id": "657f1ef7",
   "metadata": {},
   "source": [
    "##### Confusion metrics"
   ]
  },
  {
   "cell_type": "code",
   "execution_count": 122,
   "id": "2c33ef4d",
   "metadata": {},
   "outputs": [],
   "source": [
    "def compute_confusion_matrix(Y,Y_hat):\n",
    "    TP = np.sum((Y == 1) & (Y_hat == 1))\n",
    "    FP = np.sum((Y == 0) & (Y_hat == 1))\n",
    "    TN = np.sum((Y == 0) & (Y_hat == 0))\n",
    "    FN = np.sum((Y == 1) & (Y_hat == 0))\n",
    "    return np.array([\n",
    "                [TN,FP]\n",
    "                ,[FN,TP]\n",
    "                ],\n",
    "                dtype=int\n",
    "                )"
   ]
  },
  {
   "cell_type": "code",
   "execution_count": 123,
   "id": "cc1b8751",
   "metadata": {},
   "outputs": [
    {
     "data": {
      "image/png": "[encoded data removed]",
      "text/plain": [
       "<Figure size 640x480 with 2 Axes>"
      ]
     },
     "metadata": {},
     "output_type": "display_data"
    }
   ],
   "source": [
    "cm = compute_confusion_matrix(Y_test,Y_hat)\n",
    "sns.heatmap(cm,annot=True,fmt='d',cmap='Blues')\n",
    "plt.xlabel('Y_hat')\n",
    "plt.ylabel('Y')\n",
    "plt.title('Confusion Matrix')\n",
    "plt.show()"
   ]
  },
  {
   "cell_type": "markdown",
   "id": "7c5d3984",
   "metadata": {},
   "source": [
    "##### ROC curve"
   ]
  },
  {
   "cell_type": "code",
   "execution_count": 124,
   "id": "26925610",
   "metadata": {},
   "outputs": [],
   "source": [
    "# initializing empty arrays for store each precision and recall values for precision recall curve\n",
    "Precision= []\n",
    "Recall = []"
   ]
  },
  {
   "cell_type": "code",
   "execution_count": 125,
   "id": "c4b3226c",
   "metadata": {},
   "outputs": [],
   "source": [
    "def roc_curve(Y,Y_proba):\n",
    "    thresholds = np.linspace(1,0,200)\n",
    "\n",
    "    tpr_list = []\n",
    "    fpr_list = []\n",
    "\n",
    "    for t in thresholds:\n",
    "        y_hat = (Y_proba >= t).astype(int)\n",
    "        \n",
    "        TP = np.sum((Y == 1) & (y_hat == 1))\n",
    "        FP = np.sum((Y == 0) & (y_hat == 1))\n",
    "        TN = np.sum((Y == 0) & (y_hat == 0))\n",
    "        FN = np.sum((Y == 1) & (y_hat == 0))\n",
    "\n",
    "        tpr = TP / (TP + FN)\n",
    "        fpr = FP / (FP + TN)\n",
    "\n",
    "        if (TP + FP) == 0:\n",
    "            precision = 0 \n",
    "        else:\n",
    "            precision = TP / (TP + FP)\n",
    "\n",
    "        recall = TP / (TP +FN)\n",
    "        \n",
    "        tpr_list.append(tpr)\n",
    "        fpr_list.append(fpr)\n",
    "        Precision.append(precision)\n",
    "        Recall.append(recall)\n",
    "\n",
    "    return np.array(tpr_list), np.array(fpr_list), np.array(thresholds)"
   ]
  },
  {
   "cell_type": "code",
   "execution_count": 126,
   "id": "728d0379",
   "metadata": {},
   "outputs": [],
   "source": [
    "tpr, fpr, _ = roc_curve(Y_test,Y_proba)"
   ]
  },
  {
   "cell_type": "code",
   "execution_count": 127,
   "id": "cf002fc6",
   "metadata": {},
   "outputs": [
    {
     "data": {
      "image/png": "[encoded data removed]",
      "text/plain": [
       "<Figure size 640x480 with 1 Axes>"
      ]
     },
     "metadata": {},
     "output_type": "display_data"
    }
   ],
   "source": [
    "plt.plot(fpr, tpr, label='LogReg')\n",
    "plt.xlabel(\"FPR\")\n",
    "plt.ylabel(\"TPR\")\n",
    "plt.title(\"ROC Curve\")\n",
    "plt.show()"
   ]
  },
  {
   "cell_type": "code",
   "execution_count": 128,
   "id": "5ffe9168",
   "metadata": {},
   "outputs": [
    {
     "name": "stdout",
     "output_type": "stream",
     "text": [
      "AUC: 0.7703989703989704\n"
     ]
    }
   ],
   "source": [
    "auc = np.trapezoid(tpr, fpr)\n",
    "print(f\"AUC: {auc}\")"
   ]
  },
  {
   "cell_type": "code",
   "execution_count": null,
   "id": "fa87efe5",
   "metadata": {},
   "outputs": [],
   "source": []
  }
 ],
 "metadata": {
  "kernelspec": {
   "display_name": "foml",
   "language": "python",
   "name": "python3"
  },
  "language_info": {
   "codemirror_mode": {
    "name": "ipython",
    "version": 3
   },
   "file_extension": ".py",
   "mimetype": "text/x-python",
   "name": "python",
   "nbconvert_exporter": "python",
   "pygments_lexer": "ipython3",
   "version": "3.11.13"
  }
 },
 "nbformat": 4,
 "nbformat_minor": 5
}
