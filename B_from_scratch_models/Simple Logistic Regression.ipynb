{
 "cells": [
  {
   "cell_type": "markdown",
   "id": "b56a2699",
   "metadata": {},
   "source": [
    "### 1. Import Dependecies"
   ]
  },
  {
   "cell_type": "code",
   "execution_count": 19,
   "id": "a1b55707",
   "metadata": {},
   "outputs": [],
   "source": [
    "import numpy as np\n",
    "import pandas as pd\n",
    "import matplotlib.pyplot as plt\n",
    "import seaborn as sns"
   ]
  },
  {
   "cell_type": "markdown",
   "id": "6b743bdd",
   "metadata": {},
   "source": [
    "### 2. Loading the data"
   ]
  },
  {
   "cell_type": "code",
   "execution_count": 20,
   "id": "a2ca7d4c",
   "metadata": {},
   "outputs": [],
   "source": [
    "X_train = np.load('../artifacts/X_train.npz')['arr_0']\n",
    "Y_train = np.load('../artifacts/Y_train.npz')['arr_0']\n",
    "X_test = np.load('../artifacts/X_test.npz')['arr_0']\n",
    "Y_test = np.load('../artifacts/Y_test.npz')['arr_0']"
   ]
  },
  {
   "cell_type": "code",
   "execution_count": 21,
   "id": "f7efe2a4",
   "metadata": {},
   "outputs": [
    {
     "data": {
      "text/plain": [
       "array([[ 1.        ,  1.21525062, -0.47427882, ...,  0.        ,\n",
       "         0.        ,  1.        ],\n",
       "       [ 2.        , -0.51525035, -0.47427882, ...,  0.        ,\n",
       "         0.        ,  1.        ],\n",
       "       [ 3.        ,  0.17695004, -0.47427882, ...,  0.        ,\n",
       "         0.        ,  1.        ],\n",
       "       ...,\n",
       "       [ 3.        ,  0.86915043,  1.33937968, ...,  0.        ,\n",
       "         0.        ,  1.        ],\n",
       "       [ 1.        , -1.20745074,  0.43255043, ...,  0.        ,\n",
       "         0.        ,  1.        ],\n",
       "       [ 1.        , -0.66907266, -0.47427882, ...,  0.        ,\n",
       "         0.        ,  1.        ]], shape=(712, 10))"
      ]
     },
     "execution_count": 21,
     "metadata": {},
     "output_type": "execute_result"
    }
   ],
   "source": [
    "X_train"
   ]
  },
  {
   "cell_type": "markdown",
   "id": "89b8e15b",
   "metadata": {},
   "source": [
    "### 3. Model Training"
   ]
  },
  {
   "cell_type": "markdown",
   "id": "0bf70b9a",
   "metadata": {},
   "source": [
    "#### 3.1 Standard Logistic Regression"
   ]
  },
  {
   "cell_type": "code",
   "execution_count": 22,
   "id": "394169c5",
   "metadata": {},
   "outputs": [],
   "source": [
    "def sigmoid(z):\n",
    "    return 1.0 / (1.0 + np.exp(-z))"
   ]
  },
  {
   "cell_type": "code",
   "execution_count": 23,
   "id": "f83c1bea",
   "metadata": {},
   "outputs": [],
   "source": [
    "def log_regression(X, Y, lr=0.01, iterations=1000):\n",
    "    n, m = X.shape        # n = samples, m = features\n",
    "    w = np.random.randn(m)\n",
    "    b0 = 0\n",
    "\n",
    "    for epoch in range(iterations):\n",
    "        # forward\n",
    "        z = b0 + np.dot(X, w)\n",
    "        Yhat = sigmoid(z)\n",
    "\n",
    "        # stability (avoid log(0))\n",
    "        eps = 1e-15\n",
    "        Yhat = np.clip(Yhat, eps, 1 - eps)\n",
    "\n",
    "        # residuals\n",
    "        resid = Y - Yhat\n",
    "\n",
    "        # gradients (averaged)\n",
    "        grad_w = np.dot(X.T, resid) / n\n",
    "        grad_b = np.mean(resid)\n",
    "\n",
    "        # update\n",
    "        w = w + lr * grad_w   # note: since resid = Y - Yhat, we add here\n",
    "        b0 = b0 + lr * grad_b\n",
    "\n",
    "        # cost (binary cross entropy)\n",
    "        pos_component = np.sum(Y * np.log(Yhat))\n",
    "        neg_component = np.sum((1 - Y) * np.log(1 - Yhat))\n",
    "        cost = (-1/n) * (pos_component + neg_component)\n",
    "\n",
    "        if epoch % 100 == 0:\n",
    "            print(f\"Iteration {epoch}: Bias={b0:.4f}, Cost={cost:.4f}\")\n",
    "\n",
    "    return w, b0\n"
   ]
  },
  {
   "cell_type": "code",
   "execution_count": 24,
   "id": "f2ab918c",
   "metadata": {},
   "outputs": [
    {
     "name": "stdout",
     "output_type": "stream",
     "text": [
      "Iteration 0: Bias=-0.0041, Cost=1.2807\n",
      "Iteration 100: Bias=-0.2045, Cost=0.5978\n",
      "Iteration 200: Bias=-0.2151, Cost=0.5396\n",
      "Iteration 300: Bias=-0.1951, Cost=0.5146\n",
      "Iteration 400: Bias=-0.1727, Cost=0.4987\n",
      "Iteration 500: Bias=-0.1524, Cost=0.4882\n",
      "Iteration 600: Bias=-0.1345, Cost=0.4810\n",
      "Iteration 700: Bias=-0.1187, Cost=0.4760\n",
      "Iteration 800: Bias=-0.1044, Cost=0.4723\n",
      "Iteration 900: Bias=-0.0913, Cost=0.4694\n"
     ]
    }
   ],
   "source": [
    "w, b0 = log_regression(X_train,Y_train)"
   ]
  },
  {
   "cell_type": "code",
   "execution_count": 25,
   "id": "00965745",
   "metadata": {},
   "outputs": [],
   "source": [
    "def predict_proba(X, b0 ,w):\n",
    "    z = b0 + np.dot(X, w)\n",
    "    Y_proba = sigmoid(z)\n",
    "    return Y_proba"
   ]
  },
  {
   "cell_type": "code",
   "execution_count": 26,
   "id": "b0c5e997",
   "metadata": {},
   "outputs": [],
   "source": [
    "def predict(X, w, b0, threshold=0.5):\n",
    "    Y_proba = predict_proba(X, b0, w)\n",
    "    return (Y_proba >= threshold).astype(int)"
   ]
  },
  {
   "cell_type": "markdown",
   "id": "30fc16b1",
   "metadata": {},
   "source": [
    "#### Evaluation Matrics"
   ]
  },
  {
   "cell_type": "markdown",
   "id": "4fdf86cb",
   "metadata": {},
   "source": [
    "##### Confusion metrics"
   ]
  },
  {
   "cell_type": "code",
   "execution_count": 27,
   "id": "e5d191d5",
   "metadata": {},
   "outputs": [],
   "source": [
    "def compute_confusion_matrix(Y,Y_hat):\n",
    "    TP = np.sum((Y == 1) & (Y_hat == 1))\n",
    "    FP = np.sum((Y == 0) & (Y_hat == 1))\n",
    "    TN = np.sum((Y == 0) & (Y_hat == 0))\n",
    "    FN = np.sum((Y == 1) & (Y_hat == 0))\n",
    "    return np.array([\n",
    "                [TN,FP]\n",
    "                ,[FN,TP]\n",
    "                ],\n",
    "                dtype=int\n",
    "                )"
   ]
  },
  {
   "cell_type": "code",
   "execution_count": 28,
   "id": "8ef3cdd8",
   "metadata": {},
   "outputs": [],
   "source": [
    "Y_hat = predict(X_test, w, b0)\n",
    "Y_proba = predict_proba(X_test, b0 ,w)"
   ]
  },
  {
   "cell_type": "code",
   "execution_count": 29,
   "id": "cb684c6d",
   "metadata": {},
   "outputs": [
    {
     "data": {
      "image/png": "[encoded data removed]",
      "text/plain": [
       "<Figure size 640x480 with 2 Axes>"
      ]
     },
     "metadata": {},
     "output_type": "display_data"
    }
   ],
   "source": [
    "cm = compute_confusion_matrix(Y_test,Y_hat)\n",
    "sns.heatmap(cm,annot=True,fmt='d',cmap='Blues')\n",
    "plt.xlabel('Y_hat')\n",
    "plt.ylabel('Y')\n",
    "plt.title('Confusion Matrix')\n",
    "plt.show()"
   ]
  },
  {
   "cell_type": "markdown",
   "id": "4b06222a",
   "metadata": {},
   "source": [
    "#### Precision, Recall, f1score, accuracy"
   ]
  },
  {
   "cell_type": "code",
   "execution_count": 30,
   "id": "523bc194",
   "metadata": {},
   "outputs": [],
   "source": [
    "def precision_score(cm):\n",
    "    TP = cm[1,1]\n",
    "    FP = cm[0,1]\n",
    "    return TP/(TP+FP)\n",
    "\n",
    "def recall_score(cm):\n",
    "    TP = cm[1,1]\n",
    "    FN = cm[1,0]\n",
    "    return TP / (TP +FN)\n",
    "\n",
    "def f1_score(cm):\n",
    "    p = precision_score(cm)\n",
    "    r = recall_score(cm)\n",
    "    return 2 * p * r / (p + r)\n",
    "\n",
    "def accuracy(cm):\n",
    "    TP = cm[1,1]\n",
    "    FP = cm[0,1]\n",
    "    FN = cm[1,0]\n",
    "    TN = cm[0,0]\n",
    "    return (TP + TN) / (TP + TN + FP + FN)"
   ]
  },
  {
   "cell_type": "code",
   "execution_count": 31,
   "id": "80300d9a",
   "metadata": {},
   "outputs": [
    {
     "name": "stdout",
     "output_type": "stream",
     "text": [
      "Precision : 0.803030303030303\n",
      "Recall : 0.7162162162162162\n",
      "F1 Score : 0.7571428571428571\n",
      "Accuracy : 0.8100558659217877\n"
     ]
    }
   ],
   "source": [
    "cm = compute_confusion_matrix(Y_test, Y_hat) \n",
    "p = precision_score(cm)\n",
    "r = recall_score(cm) \n",
    "f1 = f1_score(cm)\n",
    "acc = accuracy(cm)\n",
    "\n",
    "print(f\"Precision : {p}\")\n",
    "print(f\"Recall : {r}\")\n",
    "print(f\"F1 Score : {f1}\")\n",
    "print(f\"Accuracy : {acc}\")"
   ]
  },
  {
   "cell_type": "markdown",
   "id": "c7a783e5",
   "metadata": {},
   "source": [
    "##### ROC curve"
   ]
  },
  {
   "cell_type": "code",
   "execution_count": 32,
   "id": "4ada170f",
   "metadata": {},
   "outputs": [],
   "source": [
    "# initializing empty arrays for store each precision and recall values for precision recall curve\n",
    "Precision= []\n",
    "Recall = []"
   ]
  },
  {
   "cell_type": "code",
   "execution_count": 33,
   "id": "2044c83d",
   "metadata": {},
   "outputs": [],
   "source": [
    "def roc_curve(Y,Y_proba):\n",
    "    thresholds = np.linspace(1,0,200)\n",
    "\n",
    "    tpr_list = []\n",
    "    fpr_list = []\n",
    "\n",
    "    for t in thresholds:\n",
    "        y_hat = (Y_proba >= t).astype(int)\n",
    "        \n",
    "        TP = np.sum((Y == 1) & (y_hat == 1))\n",
    "        FP = np.sum((Y == 0) & (y_hat == 1))\n",
    "        TN = np.sum((Y == 0) & (y_hat == 0))\n",
    "        FN = np.sum((Y == 1) & (y_hat == 0))\n",
    "\n",
    "        tpr = TP / (TP + FN)\n",
    "        fpr = FP / (FP + TN)\n",
    "\n",
    "        if (TP + FP) == 0:\n",
    "            precision = 0 \n",
    "        else:\n",
    "            precision = TP / (TP + FP)\n",
    "\n",
    "        recall = TP / (TP +FN)\n",
    "        \n",
    "        tpr_list.append(tpr)\n",
    "        fpr_list.append(fpr)\n",
    "        Precision.append(precision)\n",
    "        Recall.append(recall)\n",
    "\n",
    "    return np.array(tpr_list), np.array(fpr_list), np.array(thresholds)"
   ]
  },
  {
   "cell_type": "code",
   "execution_count": 34,
   "id": "ca615700",
   "metadata": {},
   "outputs": [],
   "source": [
    "tpr, fpr, _ = roc_curve(Y_test,Y_proba)"
   ]
  },
  {
   "cell_type": "code",
   "execution_count": 35,
   "id": "18e137cb",
   "metadata": {},
   "outputs": [
    {
     "data": {
      "image/png": "[encoded data removed]",
      "text/plain": [
       "<Figure size 640x480 with 1 Axes>"
      ]
     },
     "metadata": {},
     "output_type": "display_data"
    }
   ],
   "source": [
    "plt.plot(fpr, tpr, label='LogReg')\n",
    "plt.xlabel(\"FPR\")\n",
    "plt.ylabel(\"TPR\")\n",
    "plt.title(\"ROC Curve\")\n",
    "plt.show()"
   ]
  },
  {
   "cell_type": "code",
   "execution_count": 36,
   "id": "6a9b9229",
   "metadata": {},
   "outputs": [
    {
     "name": "stdout",
     "output_type": "stream",
     "text": [
      "AUC: 0.8673101673101674\n"
     ]
    }
   ],
   "source": [
    "auc = np.trapezoid(tpr, fpr)\n",
    "print(f\"AUC: {auc}\")"
   ]
  },
  {
   "cell_type": "code",
   "execution_count": null,
   "id": "9dbe036d",
   "metadata": {},
   "outputs": [],
   "source": []
  }
 ],
 "metadata": {
  "kernelspec": {
   "display_name": "foml",
   "language": "python",
   "name": "python3"
  },
  "language_info": {
   "codemirror_mode": {
    "name": "ipython",
    "version": 3
   },
   "file_extension": ".py",
   "mimetype": "text/x-python",
   "name": "python",
   "nbconvert_exporter": "python",
   "pygments_lexer": "ipython3",
   "version": "3.11.13"
  }
 },
 "nbformat": 4,
 "nbformat_minor": 5
}
