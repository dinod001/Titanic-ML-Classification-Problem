{
 "cells": [
  {
   "cell_type": "markdown",
   "id": "902fac27",
   "metadata": {},
   "source": [
    "### 1. Import Dependecies"
   ]
  },
  {
   "cell_type": "code",
   "execution_count": 211,
   "id": "daf7fcb7",
   "metadata": {},
   "outputs": [],
   "source": [
    "import numpy as np\n",
    "import pandas as pd\n",
    "import matplotlib.pyplot as plt\n",
    "import seaborn as sns\n",
    "from collections import Counter"
   ]
  },
  {
   "cell_type": "markdown",
   "id": "e4f4b7e6",
   "metadata": {},
   "source": [
    "### 2. Loading the data"
   ]
  },
  {
   "cell_type": "code",
   "execution_count": 212,
   "id": "f0a43a90",
   "metadata": {},
   "outputs": [],
   "source": [
    "X_train = np.load('../artifacts/X_train.npz')['arr_0']\n",
    "Y_train = np.load('../artifacts/Y_train.npz')['arr_0']\n",
    "X_test = np.load('../artifacts/X_test.npz')['arr_0']\n",
    "Y_test = np.load('../artifacts/Y_test.npz')['arr_0']"
   ]
  },
  {
   "cell_type": "markdown",
   "id": "3642a2fd",
   "metadata": {},
   "source": [
    "### 3. Model Training"
   ]
  },
  {
   "cell_type": "markdown",
   "id": "b5ecb429",
   "metadata": {},
   "source": [
    "#### 3.1 Simple Bagging"
   ]
  },
  {
   "cell_type": "code",
   "execution_count": 213,
   "id": "5d659838",
   "metadata": {},
   "outputs": [],
   "source": [
    "# Decision Tree from Scratch\n",
    "class TreeNode:\n",
    "    def __init__(self):\n",
    "        self.feature_index = None\n",
    "        self.threshold = None\n",
    "        self.left = None\n",
    "        self.right = None\n",
    "        self.prediction = None\n",
    "\n",
    "class DecisionTree:\n",
    "    def __init__(self, maximum_depth=5, criterion='gini'):\n",
    "        self.maximum_depth = maximum_depth\n",
    "        self.criterion = criterion\n",
    "        self.tree = None\n",
    "    \n",
    "    def _impurity(self, y):\n",
    "        if len(y) == 0:\n",
    "            return 0\n",
    "        counts = Counter(y)\n",
    "        n = len(y)\n",
    "        \n",
    "        if self.criterion == 'gini':\n",
    "            return 1 - sum((count/n)**2 for count in counts.values())\n",
    "        else:  # entropy\n",
    "            return -sum((count/n) * np.log2(count/n) for count in counts.values() if count > 0)\n",
    "    \n",
    "    def _best_split(self, X, y):\n",
    "        best_gain, best_feature, best_threshold = 0, None, None\n",
    "        current_impurity = self._impurity(y)\n",
    "        \n",
    "        for feature_idx in range(X.shape[1]):\n",
    "            values = np.unique(X[:, feature_idx]) \n",
    "            for val in values:\n",
    "                left_mask =  X[:, feature_idx] <= val\n",
    "                if left_mask.sum() == 0 or left_mask.sum() == len(y):\n",
    "                    continue\n",
    "                \n",
    "                y_left, y_right = y[left_mask], y[~left_mask]\n",
    "                gain = current_impurity - (len(y_left)/len(y) * self._impurity(y_left) + \n",
    "                                          len(y_right)/len(y) * self._impurity(y_right))\n",
    "                \n",
    "                if gain > best_gain:\n",
    "                    best_gain, best_feature, best_threshold = gain, feature_idx, val\n",
    "        \n",
    "        return best_feature, best_threshold\n",
    "    \n",
    "    def _build_tree(self, X, y, depth=0):\n",
    "        node = TreeNode()\n",
    "        node.prediction = Counter(y).most_common(1)[0][0]\n",
    "        \n",
    "        if depth >= self.maximum_depth or len(set(y)) == 1:\n",
    "            return node\n",
    "        \n",
    "        feature_idx, threshold = self._best_split(X, y)\n",
    "        if feature_idx is None:\n",
    "            return node\n",
    "        \n",
    "        node.feature_index, node.threshold = feature_idx, threshold\n",
    "        left_mask = X[:, feature_idx] <= threshold\n",
    "\n",
    "        \n",
    "        node.left = self._build_tree(X[left_mask], y[left_mask], depth + 1)\n",
    "        node.right = self._build_tree(X[~left_mask], y[~left_mask], depth + 1)\n",
    "        \n",
    "        return node\n",
    "    \n",
    "    def fit(self, X, y):\n",
    "        self.tree = self._build_tree(X, y)\n",
    "        return self\n",
    "    \n",
    "    def _predict_sample(self, sample, node):\n",
    "        if node.feature_index is None:\n",
    "            return node.prediction\n",
    "        \n",
    "        if sample[node.feature_index] <= node.threshold:\n",
    "            return self._predict_sample(sample, node.left)\n",
    "        else:\n",
    "            return self._predict_sample(sample, node.right)\n",
    "    \n",
    "    def predict(self, X):\n",
    "        return np.array([self._predict_sample(X[i], self.tree) for i in range(len(X))])"
   ]
  },
  {
   "cell_type": "code",
   "execution_count": 214,
   "id": "90325c59",
   "metadata": {},
   "outputs": [],
   "source": [
    "class SimpleBagging:\n",
    "    def __init__(\n",
    "                self, \n",
    "                n_estimator=10,\n",
    "                n_samples=50\n",
    "                ):\n",
    "       self.n_estimator = n_estimator\n",
    "       self.n_samples = n_samples\n",
    "       self.trees = []\n",
    "\n",
    "    def fit(self, X, y):\n",
    "        for _ in range(self.n_estimator):\n",
    "            indices =  np.random.choice(len(X), size=self.n_samples, replace=True)\n",
    "            X_bootstrap, y_boostrap = X[indices], y[indices]\n",
    "\n",
    "            tree = DecisionTree(maximum_depth=3)\n",
    "            tree.fit(X_bootstrap, y_boostrap)\n",
    "            self.trees.append(tree)\n",
    "\n",
    "        return self\n",
    "\n",
    "\n",
    "    def predict(self, X):\n",
    "        predictions = np.array([tree.predict(X) for tree in self.trees])\n",
    "        return np.array([Counter(predictions[:, i]).most_common(1)[0][0] for i in range(len(X))])\n",
    "\n",
    "    def predict_proba(self, X):\n",
    "        predictions = np.array([tree.predict(X) for tree in self.trees])\n",
    "        proba = predictions.mean(axis=0)\n",
    "        return proba\n"
   ]
  },
  {
   "cell_type": "code",
   "execution_count": 215,
   "id": "9dc73300",
   "metadata": {},
   "outputs": [
    {
     "data": {
      "text/plain": [
       "<__main__.SimpleBagging at 0x20a3ab1c490>"
      ]
     },
     "execution_count": 215,
     "metadata": {},
     "output_type": "execute_result"
    }
   ],
   "source": [
    "titanic_bagging = SimpleBagging(n_estimator=10)\n",
    "titanic_bagging.fit(X_train, Y_train)"
   ]
  },
  {
   "cell_type": "code",
   "execution_count": 216,
   "id": "baa18a05",
   "metadata": {},
   "outputs": [],
   "source": [
    "Y_hat = titanic_bagging.predict(X_test)\n",
    "Y_proba = titanic_bagging.predict_proba(X_test)"
   ]
  },
  {
   "cell_type": "markdown",
   "id": "b11dc3b1",
   "metadata": {},
   "source": [
    "#### Evaluation Matrics"
   ]
  },
  {
   "cell_type": "markdown",
   "id": "c0092e1c",
   "metadata": {},
   "source": [
    "##### Confusion metrics"
   ]
  },
  {
   "cell_type": "code",
   "execution_count": 217,
   "id": "008f346a",
   "metadata": {},
   "outputs": [],
   "source": [
    "def compute_confusion_matrix(Y,Y_hat):\n",
    "    TP = np.sum((Y == 1) & (Y_hat == 1))\n",
    "    FP = np.sum((Y == 0) & (Y_hat == 1))\n",
    "    TN = np.sum((Y == 0) & (Y_hat == 0))\n",
    "    FN = np.sum((Y == 1) & (Y_hat == 0))\n",
    "    return np.array([\n",
    "                [TN,FP]\n",
    "                ,[FN,TP]\n",
    "                ],\n",
    "                dtype=int\n",
    "                )"
   ]
  },
  {
   "cell_type": "code",
   "execution_count": 218,
   "id": "0b68fd8e",
   "metadata": {},
   "outputs": [
    {
     "data": {
      "image/png": "[encoded data removed]",
      "text/plain": [
       "<Figure size 640x480 with 2 Axes>"
      ]
     },
     "metadata": {},
     "output_type": "display_data"
    }
   ],
   "source": [
    "cm = compute_confusion_matrix(Y_test,Y_hat)\n",
    "sns.heatmap(cm,annot=True,fmt='d',cmap='Blues')\n",
    "plt.xlabel('Y_hat')\n",
    "plt.ylabel('Y')\n",
    "plt.title('Confusion Matrix')\n",
    "plt.show()"
   ]
  },
  {
   "cell_type": "markdown",
   "id": "5057279f",
   "metadata": {},
   "source": [
    "#### Precision, Recall, f1score, accuracy"
   ]
  },
  {
   "cell_type": "code",
   "execution_count": 219,
   "id": "337be846",
   "metadata": {},
   "outputs": [],
   "source": [
    "def precision_score(cm):\n",
    "    TP = cm[1,1]\n",
    "    FP = cm[0,1]\n",
    "    return TP/(TP+FP)\n",
    "\n",
    "def recall_score(cm):\n",
    "    TP = cm[1,1]\n",
    "    FN = cm[1,0]\n",
    "    return TP / (TP +FN)\n",
    "\n",
    "def f1_score(cm):\n",
    "    p = precision_score(cm)\n",
    "    r = recall_score(cm)\n",
    "    return 2 * p * r / (p + r)\n",
    "\n",
    "def accuracy(cm):\n",
    "    TP = cm[1,1]\n",
    "    FP = cm[0,1]\n",
    "    FN = cm[1,0]\n",
    "    TN = cm[0,0]\n",
    "    return (TP + TN) / (TP + TN + FP + FN)"
   ]
  },
  {
   "cell_type": "code",
   "execution_count": 220,
   "id": "76de6b70",
   "metadata": {},
   "outputs": [
    {
     "name": "stdout",
     "output_type": "stream",
     "text": [
      "Precision : 0.8253968253968254\n",
      "Recall : 0.7027027027027027\n",
      "F1 Score : 0.7591240875912408\n",
      "Accuracy : 0.8156424581005587\n"
     ]
    }
   ],
   "source": [
    "cm = compute_confusion_matrix(Y_test, Y_hat) \n",
    "p = precision_score(cm)\n",
    "r = recall_score(cm) \n",
    "f1 = f1_score(cm)\n",
    "acc = accuracy(cm)\n",
    "\n",
    "print(f\"Precision : {p}\")\n",
    "print(f\"Recall : {r}\")\n",
    "print(f\"F1 Score : {f1}\")\n",
    "print(f\"Accuracy : {acc}\")"
   ]
  },
  {
   "cell_type": "markdown",
   "id": "5b54bc66",
   "metadata": {},
   "source": [
    "##### ROC curve"
   ]
  },
  {
   "cell_type": "code",
   "execution_count": 221,
   "id": "327bdea1",
   "metadata": {},
   "outputs": [],
   "source": [
    "# initializing empty arrays for store each precision and recall values for precision recall curve\n",
    "Precision= []\n",
    "Recall = []"
   ]
  },
  {
   "cell_type": "code",
   "execution_count": 222,
   "id": "8d4a7414",
   "metadata": {},
   "outputs": [],
   "source": [
    "def roc_curve(Y,Y_proba):\n",
    "    thresholds = np.linspace(1,0,200)\n",
    "\n",
    "    tpr_list = []\n",
    "    fpr_list = []\n",
    "\n",
    "    for t in thresholds:\n",
    "        y_hat = (Y_proba >= t).astype(int)\n",
    "        \n",
    "        TP = np.sum((Y == 1) & (y_hat == 1))\n",
    "        FP = np.sum((Y == 0) & (y_hat == 1))\n",
    "        TN = np.sum((Y == 0) & (y_hat == 0))\n",
    "        FN = np.sum((Y == 1) & (y_hat == 0))\n",
    "\n",
    "        tpr = TP / (TP + FN)\n",
    "        fpr = FP / (FP + TN)\n",
    "\n",
    "        if (TP + FP) == 0:\n",
    "            precision = 0 \n",
    "        else:\n",
    "            precision = TP / (TP + FP)\n",
    "\n",
    "        recall = TP / (TP +FN)\n",
    "        \n",
    "        tpr_list.append(tpr)\n",
    "        fpr_list.append(fpr)\n",
    "        Precision.append(precision)\n",
    "        Recall.append(recall)\n",
    "\n",
    "    return np.array(tpr_list), np.array(fpr_list), np.array(thresholds)"
   ]
  },
  {
   "cell_type": "code",
   "execution_count": 223,
   "id": "e9d763b8",
   "metadata": {},
   "outputs": [],
   "source": [
    "tpr, fpr, _ = roc_curve(Y_test,Y_proba)"
   ]
  },
  {
   "cell_type": "code",
   "execution_count": 224,
   "id": "600694ee",
   "metadata": {},
   "outputs": [
    {
     "data": {
      "image/png": "[encoded data removed]",
      "text/plain": [
       "<Figure size 640x480 with 1 Axes>"
      ]
     },
     "metadata": {},
     "output_type": "display_data"
    }
   ],
   "source": [
    "plt.plot(fpr, tpr, label='LogReg')\n",
    "plt.xlabel(\"FPR\")\n",
    "plt.ylabel(\"TPR\")\n",
    "plt.title(\"ROC Curve\")\n",
    "plt.show()"
   ]
  },
  {
   "cell_type": "code",
   "execution_count": 225,
   "id": "6447fe9f",
   "metadata": {},
   "outputs": [
    {
     "name": "stdout",
     "output_type": "stream",
     "text": [
      "AUC: 0.8761904761904763\n"
     ]
    }
   ],
   "source": [
    "auc = np.trapezoid(tpr, fpr)\n",
    "print(f\"AUC: {auc}\")"
   ]
  },
  {
   "cell_type": "code",
   "execution_count": null,
   "id": "8b03b38a",
   "metadata": {},
   "outputs": [],
   "source": []
  }
 ],
 "metadata": {
  "kernelspec": {
   "display_name": "foml",
   "language": "python",
   "name": "python3"
  },
  "language_info": {
   "codemirror_mode": {
    "name": "ipython",
    "version": 3
   },
   "file_extension": ".py",
   "mimetype": "text/x-python",
   "name": "python",
   "nbconvert_exporter": "python",
   "pygments_lexer": "ipython3",
   "version": "3.11.13"
  }
 },
 "nbformat": 4,
 "nbformat_minor": 5
}
