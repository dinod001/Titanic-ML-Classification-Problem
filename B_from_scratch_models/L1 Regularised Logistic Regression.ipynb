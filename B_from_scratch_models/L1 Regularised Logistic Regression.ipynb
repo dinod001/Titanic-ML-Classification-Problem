{
 "cells": [
  {
   "cell_type": "markdown",
   "id": "6a869bc0",
   "metadata": {},
   "source": [
    "### 1. Import Dependecies"
   ]
  },
  {
   "cell_type": "code",
   "execution_count": 280,
   "id": "d88430bc",
   "metadata": {},
   "outputs": [],
   "source": [
    "import numpy as np\n",
    "import pandas as pd\n",
    "import matplotlib.pyplot as plt\n",
    "import seaborn as sns"
   ]
  },
  {
   "cell_type": "markdown",
   "id": "8f3b6734",
   "metadata": {},
   "source": [
    "### 2. Loading the data"
   ]
  },
  {
   "cell_type": "code",
   "execution_count": 281,
   "id": "cd735ba6",
   "metadata": {},
   "outputs": [],
   "source": [
    "X_train = np.load('../artifacts/X_train.npz')['arr_0']\n",
    "Y_train = np.load('../artifacts/Y_train.npz')['arr_0']\n",
    "X_test = np.load('../artifacts/X_test.npz')['arr_0']\n",
    "Y_test = np.load('../artifacts/Y_test.npz')['arr_0']"
   ]
  },
  {
   "cell_type": "markdown",
   "id": "cb589db2",
   "metadata": {},
   "source": [
    "### 3. Model Training"
   ]
  },
  {
   "cell_type": "markdown",
   "id": "f3a47e24",
   "metadata": {},
   "source": [
    "#### 3.1 L1 Regularised Logistic Regression"
   ]
  },
  {
   "cell_type": "code",
   "execution_count": 282,
   "id": "ece9be3c",
   "metadata": {},
   "outputs": [],
   "source": [
    "def sigmoid(z):\n",
    "    return 1.0 / (1.0 + np.exp(-z))"
   ]
  },
  {
   "cell_type": "code",
   "execution_count": 283,
   "id": "3ee5d57b",
   "metadata": {},
   "outputs": [],
   "source": [
    "def l1_log_regression(\n",
    "                        X, Y, \n",
    "                        lr = 0.01, \n",
    "                        lambda_reg = 0.01,\n",
    "                        iterations = 1000\n",
    "                        ):\n",
    "    n, m = X.shape \n",
    "    w = np.random.randn(m)\n",
    "    b0 = 0\n",
    "\n",
    "    loss_arr = []\n",
    "\n",
    "    ''' \n",
    "    w = betas means weights\n",
    "    '''\n",
    "\n",
    "    for epoch in range(iterations):\n",
    "        # Forward pass\n",
    "        z = b0 + np.dot(X, w)\n",
    "        Yhat = sigmoid(z)\n",
    "        resid = Y - Yhat # residual means error terms\n",
    "        \n",
    "        # Compute gradients with L1 regularization\n",
    "        s = np.where(w>=0, 1, -1)\n",
    "        grad_w = -np.dot(X.T, resid) / n + lambda_reg * s # dw = grad_w\n",
    "        grad_b = -np.mean(resid) # db = grad_b\n",
    "        \n",
    "        # Standard gradient descent update\n",
    "        w = w - lr * grad_w\n",
    "        b0 = b0 - lr * grad_b\n",
    "        \n",
    "        # Compute total loss (BCE + L1 penalty)\n",
    "\n",
    "        # cost (binary cross entropy)\n",
    "        pos_component = np.sum(Y * np.log(Yhat))\n",
    "        neg_component = np.sum((1 - Y) * np.log(1 - Yhat))\n",
    "        bce_loss = (-1/n) * (pos_component + neg_component)\n",
    "\n",
    "        l1_panelty = lambda_reg * np.sum(np.abs(w))\n",
    "        loss = bce_loss + l1_panelty\n",
    "        loss_arr.append(loss)\n",
    "\n",
    "    return w, b0, loss_arr"
   ]
  },
  {
   "cell_type": "code",
   "execution_count": 284,
   "id": "05926e98",
   "metadata": {},
   "outputs": [
    {
     "name": "stdout",
     "output_type": "stream",
     "text": [
      "best w : [-4.66896196e-01 -3.97743470e-02 -2.51318909e-01 -5.32240617e-03\n",
      "  2.15910384e-01  2.43243846e+00 -2.03338783e-06 -3.49651040e-02\n",
      " -4.07655301e-01  1.32805417e-01]\n",
      "best b0 : -0.47845104933099364\n"
     ]
    }
   ],
   "source": [
    "w, b0, loss_arr = l1_log_regression(X_train, Y_train)\n",
    "\n",
    "print(f\"best w : {w}\")\n",
    "print(f\"best b0 : {b0}\")"
   ]
  },
  {
   "cell_type": "code",
   "execution_count": 285,
   "id": "0c4236eb",
   "metadata": {},
   "outputs": [],
   "source": [
    "def predict_proba(X, b0 ,w):\n",
    "    z = b0 + np.dot(X, w)\n",
    "    Y_proba = sigmoid(z)\n",
    "    return Y_proba"
   ]
  },
  {
   "cell_type": "code",
   "execution_count": 286,
   "id": "7c7acfe6",
   "metadata": {},
   "outputs": [],
   "source": [
    "def predict(X, w, b0, threshold=0.5):\n",
    "    Y_proba = predict_proba(X, b0, w)\n",
    "    return (Y_proba >= threshold).astype(int)"
   ]
  },
  {
   "cell_type": "markdown",
   "id": "69c002f5",
   "metadata": {},
   "source": [
    "#### Evaluation Matrics"
   ]
  },
  {
   "cell_type": "markdown",
   "id": "f5516289",
   "metadata": {},
   "source": [
    "##### Confusion metrics"
   ]
  },
  {
   "cell_type": "code",
   "execution_count": 287,
   "id": "ec7c53ad",
   "metadata": {},
   "outputs": [],
   "source": [
    "def compute_confusion_matrix(Y,Y_hat):\n",
    "    TP = np.sum((Y == 1) & (Y_hat == 1))\n",
    "    FP = np.sum((Y == 0) & (Y_hat == 1))\n",
    "    TN = np.sum((Y == 0) & (Y_hat == 0))\n",
    "    FN = np.sum((Y == 1) & (Y_hat == 0))\n",
    "    return np.array([\n",
    "                [TN,FP]\n",
    "                ,[FN,TP]\n",
    "                ],\n",
    "                dtype=int\n",
    "                )"
   ]
  },
  {
   "cell_type": "code",
   "execution_count": 288,
   "id": "ea23d6ab",
   "metadata": {},
   "outputs": [],
   "source": [
    "Y_hat = predict(X_test, w, b0)\n",
    "Y_proba = predict_proba(X_test, b0 ,w)"
   ]
  },
  {
   "cell_type": "code",
   "execution_count": 289,
   "id": "e1c31715",
   "metadata": {},
   "outputs": [
    {
     "data": {
      "image/png": "[encoded data removed]",
      "text/plain": [
       "<Figure size 640x480 with 2 Axes>"
      ]
     },
     "metadata": {},
     "output_type": "display_data"
    }
   ],
   "source": [
    "cm = compute_confusion_matrix(Y_test,Y_hat)\n",
    "sns.heatmap(cm,annot=True,fmt='d',cmap='Blues')\n",
    "plt.xlabel('Y_hat')\n",
    "plt.ylabel('Y')\n",
    "plt.title('Confusion Matrix')\n",
    "plt.show()"
   ]
  },
  {
   "cell_type": "markdown",
   "id": "23f6eb2b",
   "metadata": {},
   "source": [
    "#### Precision, Recall, f1score, accuracy"
   ]
  },
  {
   "cell_type": "code",
   "execution_count": 290,
   "id": "7a3e954a",
   "metadata": {},
   "outputs": [],
   "source": [
    "def precision_score(cm):\n",
    "    TP = cm[1,1]\n",
    "    FP = cm[0,1]\n",
    "    return TP/(TP+FP)\n",
    "\n",
    "def recall_score(cm):\n",
    "    TP = cm[1,1]\n",
    "    FN = cm[1,0]\n",
    "    return TP / (TP +FN)\n",
    "\n",
    "def f1_score(cm):\n",
    "    p = precision_score(cm)\n",
    "    r = recall_score(cm)\n",
    "    return 2 * p * r / (p + r)\n",
    "\n",
    "def accuracy(cm):\n",
    "    TP = cm[1,1]\n",
    "    FP = cm[0,1]\n",
    "    FN = cm[1,0]\n",
    "    TN = cm[0,0]\n",
    "    return (TP + TN) / (TP + TN + FP + FN)"
   ]
  },
  {
   "cell_type": "code",
   "execution_count": 291,
   "id": "2dddd17b",
   "metadata": {},
   "outputs": [
    {
     "name": "stdout",
     "output_type": "stream",
     "text": [
      "Precision : 0.7647058823529411\n",
      "Recall : 0.7027027027027027\n",
      "F1 Score : 0.7323943661971832\n",
      "Accuracy : 0.7877094972067039\n"
     ]
    }
   ],
   "source": [
    "cm = compute_confusion_matrix(Y_test, Y_hat) \n",
    "p = precision_score(cm)\n",
    "r = recall_score(cm) \n",
    "f1 = f1_score(cm)\n",
    "acc = accuracy(cm)\n",
    "\n",
    "print(f\"Precision : {p}\")\n",
    "print(f\"Recall : {r}\")\n",
    "print(f\"F1 Score : {f1}\")\n",
    "print(f\"Accuracy : {acc}\")"
   ]
  },
  {
   "cell_type": "markdown",
   "id": "87d8a1da",
   "metadata": {},
   "source": [
    "##### ROC curve"
   ]
  },
  {
   "cell_type": "code",
   "execution_count": 292,
   "id": "be533b57",
   "metadata": {},
   "outputs": [],
   "source": [
    "# initializing empty arrays for store each precision and recall values for precision recall curve\n",
    "Precision= []\n",
    "Recall = []"
   ]
  },
  {
   "cell_type": "code",
   "execution_count": 293,
   "id": "5ced8044",
   "metadata": {},
   "outputs": [],
   "source": [
    "def roc_curve(Y,Y_proba):\n",
    "    thresholds = np.linspace(1,0,200)\n",
    "\n",
    "    tpr_list = []\n",
    "    fpr_list = []\n",
    "\n",
    "    for t in thresholds:\n",
    "        y_hat = (Y_proba >= t).astype(int)\n",
    "        \n",
    "        TP = np.sum((Y == 1) & (y_hat == 1))\n",
    "        FP = np.sum((Y == 0) & (y_hat == 1))\n",
    "        TN = np.sum((Y == 0) & (y_hat == 0))\n",
    "        FN = np.sum((Y == 1) & (y_hat == 0))\n",
    "\n",
    "        tpr = TP / (TP + FN)\n",
    "        fpr = FP / (FP + TN)\n",
    "\n",
    "        if (TP + FP) == 0:\n",
    "            precision = 0 \n",
    "        else:\n",
    "            precision = TP / (TP + FP)\n",
    "\n",
    "        recall = TP / (TP +FN)\n",
    "        \n",
    "        tpr_list.append(tpr)\n",
    "        fpr_list.append(fpr)\n",
    "        Precision.append(precision)\n",
    "        Recall.append(recall)\n",
    "\n",
    "    return np.array(tpr_list), np.array(fpr_list), np.array(thresholds)"
   ]
  },
  {
   "cell_type": "code",
   "execution_count": 294,
   "id": "dd28a8b1",
   "metadata": {},
   "outputs": [],
   "source": [
    "tpr, fpr, _ = roc_curve(Y_test,Y_proba)"
   ]
  },
  {
   "cell_type": "code",
   "execution_count": 295,
   "id": "3eef66c4",
   "metadata": {},
   "outputs": [
    {
     "data": {
      "image/png": "[encoded data removed]",
      "text/plain": [
       "<Figure size 640x480 with 1 Axes>"
      ]
     },
     "metadata": {},
     "output_type": "display_data"
    }
   ],
   "source": [
    "plt.plot(fpr, tpr, label='LogReg')\n",
    "plt.xlabel(\"FPR\")\n",
    "plt.ylabel(\"TPR\")\n",
    "plt.title(\"ROC Curve\")\n",
    "plt.show()"
   ]
  },
  {
   "cell_type": "code",
   "execution_count": 296,
   "id": "c211e675",
   "metadata": {},
   "outputs": [
    {
     "name": "stdout",
     "output_type": "stream",
     "text": [
      "AUC: 0.8617117117117118\n"
     ]
    }
   ],
   "source": [
    "auc = np.trapezoid(tpr, fpr)\n",
    "print(f\"AUC: {auc}\")"
   ]
  },
  {
   "cell_type": "code",
   "execution_count": null,
   "id": "569580e4",
   "metadata": {},
   "outputs": [],
   "source": []
  }
 ],
 "metadata": {
  "kernelspec": {
   "display_name": "foml",
   "language": "python",
   "name": "python3"
  },
  "language_info": {
   "codemirror_mode": {
    "name": "ipython",
    "version": 3
   },
   "file_extension": ".py",
   "mimetype": "text/x-python",
   "name": "python",
   "nbconvert_exporter": "python",
   "pygments_lexer": "ipython3",
   "version": "3.11.13"
  }
 },
 "nbformat": 4,
 "nbformat_minor": 5
}
